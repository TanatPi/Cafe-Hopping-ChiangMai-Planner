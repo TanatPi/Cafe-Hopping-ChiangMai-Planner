{
 "cells": [
  {
   "cell_type": "markdown",
   "metadata": {},
   "source": [
    "# PyMOO NSGAII"
   ]
  },
  {
   "cell_type": "code",
   "execution_count": 53,
   "metadata": {},
   "outputs": [],
   "source": [
    "import matplotlib.pyplot as plt"
   ]
  },
  {
   "cell_type": "code",
   "execution_count": 54,
   "metadata": {},
   "outputs": [],
   "source": [
    "import pandas as pd\n",
    "import numpy as np"
   ]
  },
  {
   "cell_type": "code",
   "execution_count": 55,
   "metadata": {},
   "outputs": [],
   "source": [
    "from pymoo.algorithms.soo.nonconvex.ga import GA\n",
    "from pymoo.core.problem import Problem\n",
    "from pymoo.optimize import minimize\n",
    "from pymoo.operators.sampling.rnd import PermutationRandomSampling\n",
    "from pymoo.operators.crossover.ox import OrderCrossover\n",
    "from pymoo.operators.mutation.inversion import InversionMutation\n",
    "from pymoo.termination.default import DefaultSingleObjectiveTermination"
   ]
  },
  {
   "cell_type": "code",
   "execution_count": 56,
   "metadata": {},
   "outputs": [],
   "source": [
    "def get_paths(x,distance_matrix):\n",
    "    path = []\n",
    "    for i in range(len(x)):\n",
    "        x_row = x[i]\n",
    "        path.append([[x_row[j],x_row[j+1]] for j in range(len(x_row)-1)])    \n",
    "    path = np.array(path)\n",
    "    return path"
   ]
  },
  {
   "cell_type": "code",
   "execution_count": 57,
   "metadata": {},
   "outputs": [],
   "source": [
    "def get_travelling_distance(distance_matrix, path, n_pop):\n",
    "    distance = []\n",
    "    for i in range(n_pop):\n",
    "        distance_row = []\n",
    "        for j in range(len(path[i])):\n",
    "            path_ij = path[i,j]\n",
    "            distance_row.append(distance_matrix[path_ij[0],path_ij[1]])\n",
    "        distance.append(distance_row)\n",
    "    return np.array(distance)\n"
   ]
  },
  {
   "cell_type": "markdown",
   "metadata": {},
   "source": [
    "## Perform GA"
   ]
  },
  {
   "cell_type": "code",
   "execution_count": 58,
   "metadata": {},
   "outputs": [],
   "source": [
    "class CustomPermutationProblem(Problem):\n",
    "    def __init__(self, max_gene,distance_matrix, max_distance):\n",
    "        super().__init__(\n",
    "            n_var=max_gene,\n",
    "            n_obj=1,  # Number of objectives\n",
    "            n_constr=1,  # Number of constraints\n",
    "            xl=0,  # Lower bounds for variables\n",
    "            xu=len(distance_matrix) - 1,  # Upper bounds for variables\n",
    "        )\n",
    "\n",
    "        self.distance_matrix = distance_matrix\n",
    "        self.max_distance = max_distance\n",
    " \n",
    "    def _evaluate(self, x, out, *args, **kwargs):\n",
    "        # permutation with replacement problem\n",
    "\n",
    "        # get paths from individuals -> pair the next nearest genes\n",
    "        path = get_paths(x,self.distance_matrix)\n",
    "\n",
    "        #calculate travelling distances from paths\n",
    "        traveling_distance = get_travelling_distance(self.distance_matrix,path, len(x))\n",
    "        total_traveling_distance = np.sum(traveling_distance, axis = 1)\n",
    "\n",
    "        # Objectives\n",
    "        f1 = total_traveling_distance # minimize travelling distance/ duration\n",
    "     \n",
    "\n",
    "        # Constraints\n",
    "        if self.max_distance == 'no limit':\n",
    "            g1 = -total_traveling_distance\n",
    "        else:\n",
    "            g1 = total_traveling_distance - self.max_distance # distance limit\n",
    "\n",
    "\n",
    "        out[\"F\"] = f1 # Set the objective values\n",
    "        out[\"G\"] = g1\n",
    "\n",
    "        "
   ]
  },
  {
   "cell_type": "code",
   "execution_count": 59,
   "metadata": {},
   "outputs": [],
   "source": [
    "df = pd.read_csv(\"E:\\Work\\DS\\Optimization\\Term Project\\git\\data.csv\")"
   ]
  },
  {
   "cell_type": "code",
   "execution_count": 60,
   "metadata": {},
   "outputs": [
    {
     "data": {
      "text/html": [
       "<div>\n",
       "<style scoped>\n",
       "    .dataframe tbody tr th:only-of-type {\n",
       "        vertical-align: middle;\n",
       "    }\n",
       "\n",
       "    .dataframe tbody tr th {\n",
       "        vertical-align: top;\n",
       "    }\n",
       "\n",
       "    .dataframe thead th {\n",
       "        text-align: right;\n",
       "    }\n",
       "</style>\n",
       "<table border=\"1\" class=\"dataframe\">\n",
       "  <thead>\n",
       "    <tr style=\"text-align: right;\">\n",
       "      <th></th>\n",
       "      <th>Unnamed: 0</th>\n",
       "      <th>No</th>\n",
       "      <th>name</th>\n",
       "      <th>type</th>\n",
       "      <th>rating</th>\n",
       "      <th>count</th>\n",
       "      <th>code location</th>\n",
       "      <th>link</th>\n",
       "      <th>Gene code</th>\n",
       "      <th>lat_long</th>\n",
       "    </tr>\n",
       "  </thead>\n",
       "  <tbody>\n",
       "    <tr>\n",
       "      <th>0</th>\n",
       "      <td>0</td>\n",
       "      <td>1</td>\n",
       "      <td>Taste Cafe</td>\n",
       "      <td>NaN</td>\n",
       "      <td>4.6</td>\n",
       "      <td>457</td>\n",
       "      <td>QXW7+36 เทศบาลนครเชียงใหม่ อำเภอเมืองเชียงใหม่...</td>\n",
       "      <td>https://maps.app.goo.gl/KS5jRncaRgY9c8Vs5</td>\n",
       "      <td>a1</td>\n",
       "      <td>(18.7951875, 98.9630625)</td>\n",
       "    </tr>\n",
       "    <tr>\n",
       "      <th>1</th>\n",
       "      <td>1</td>\n",
       "      <td>2</td>\n",
       "      <td>yesterday cafe'</td>\n",
       "      <td>NaN</td>\n",
       "      <td>4.4</td>\n",
       "      <td>135</td>\n",
       "      <td>QXW8+QF เทศบาลนครเชียงใหม่ อำเภอเมืองเชียงใหม่...</td>\n",
       "      <td>https://maps.app.goo.gl/iWJY4rcZj5ot4b1b6</td>\n",
       "      <td>a2</td>\n",
       "      <td>(18.7969375, 98.96618749999999)</td>\n",
       "    </tr>\n",
       "    <tr>\n",
       "      <th>2</th>\n",
       "      <td>2</td>\n",
       "      <td>3</td>\n",
       "      <td>Nine One Coffee</td>\n",
       "      <td>NaN</td>\n",
       "      <td>4.7</td>\n",
       "      <td>439</td>\n",
       "      <td>QXW8+QQ เทศบาลนครเชียงใหม่ อำเภอเมืองเชียงใหม่...</td>\n",
       "      <td>https://maps.app.goo.gl/aMEKVtvdbR8n1xMCA</td>\n",
       "      <td>b1</td>\n",
       "      <td>(18.7969375, 98.9669375)</td>\n",
       "    </tr>\n",
       "    <tr>\n",
       "      <th>3</th>\n",
       "      <td>3</td>\n",
       "      <td>4</td>\n",
       "      <td>Morestto</td>\n",
       "      <td>NaN</td>\n",
       "      <td>4.7</td>\n",
       "      <td>297</td>\n",
       "      <td>QXX7+WJ เทศบาลนครเชียงใหม่ อำเภอเมืองเชียงใหม่...</td>\n",
       "      <td>https://maps.app.goo.gl/t4a7mG1SLNfjDEAh8</td>\n",
       "      <td>b2</td>\n",
       "      <td>(18.7998125, 98.9640625)</td>\n",
       "    </tr>\n",
       "    <tr>\n",
       "      <th>4</th>\n",
       "      <td>4</td>\n",
       "      <td>5</td>\n",
       "      <td>Ristr8to Original</td>\n",
       "      <td>NaN</td>\n",
       "      <td>4.7</td>\n",
       "      <td>644</td>\n",
       "      <td>QXX8+MV เทศบาลนครเชียงใหม่ อำเภอเมืองเชียงใหม่...</td>\n",
       "      <td>https://maps.app.goo.gl/WatnZ6gn7NCcAkgk7</td>\n",
       "      <td>c1</td>\n",
       "      <td>(18.7991875, 98.9671875)</td>\n",
       "    </tr>\n",
       "  </tbody>\n",
       "</table>\n",
       "</div>"
      ],
      "text/plain": [
       "   Unnamed: 0  No               name  type  rating  count  \\\n",
       "0           0   1         Taste Cafe   NaN     4.6    457   \n",
       "1           1   2    yesterday cafe'   NaN     4.4    135   \n",
       "2           2   3    Nine One Coffee   NaN     4.7    439   \n",
       "3           3   4           Morestto   NaN     4.7    297   \n",
       "4           4   5  Ristr8to Original   NaN     4.7    644   \n",
       "\n",
       "                                       code location  \\\n",
       "0  QXW7+36 เทศบาลนครเชียงใหม่ อำเภอเมืองเชียงใหม่...   \n",
       "1  QXW8+QF เทศบาลนครเชียงใหม่ อำเภอเมืองเชียงใหม่...   \n",
       "2  QXW8+QQ เทศบาลนครเชียงใหม่ อำเภอเมืองเชียงใหม่...   \n",
       "3  QXX7+WJ เทศบาลนครเชียงใหม่ อำเภอเมืองเชียงใหม่...   \n",
       "4  QXX8+MV เทศบาลนครเชียงใหม่ อำเภอเมืองเชียงใหม่...   \n",
       "\n",
       "                                        link Gene code  \\\n",
       "0  https://maps.app.goo.gl/KS5jRncaRgY9c8Vs5        a1   \n",
       "1  https://maps.app.goo.gl/iWJY4rcZj5ot4b1b6        a2   \n",
       "2  https://maps.app.goo.gl/aMEKVtvdbR8n1xMCA        b1   \n",
       "3  https://maps.app.goo.gl/t4a7mG1SLNfjDEAh8        b2   \n",
       "4  https://maps.app.goo.gl/WatnZ6gn7NCcAkgk7        c1   \n",
       "\n",
       "                          lat_long  \n",
       "0         (18.7951875, 98.9630625)  \n",
       "1  (18.7969375, 98.96618749999999)  \n",
       "2         (18.7969375, 98.9669375)  \n",
       "3         (18.7998125, 98.9640625)  \n",
       "4         (18.7991875, 98.9671875)  "
      ]
     },
     "execution_count": 60,
     "metadata": {},
     "output_type": "execute_result"
    }
   ],
   "source": [
    "df.head()"
   ]
  },
  {
   "cell_type": "code",
   "execution_count": 61,
   "metadata": {},
   "outputs": [],
   "source": [
    "'''distance_matrix = np.array([[ 0,  20,  40,  60],\n",
    "                            [80,  0,  70,  10],\n",
    "                            [30, 90,  0,  50],\n",
    "                            [70, 40,  10,  0]])'''\n",
    "\n",
    "#distance_matrix = pd.read_csv(\"E:\\Work\\DS\\Optimization\\Term Project\\git\\distance_matrix.csv\", header =None).values\n",
    "distance_matrix = pd.read_csv(\"E:\\Work\\DS\\Optimization\\Term Project\\git\\duration_matrix.csv\", header =None).values\n",
    "is_duration = True"
   ]
  },
  {
   "cell_type": "code",
   "execution_count": 62,
   "metadata": {},
   "outputs": [],
   "source": [
    "# this is for output naming for export purpose\n",
    "if is_duration:\n",
    "    matrix_type = \"max_duration\"\n",
    "    unit = \"seconds\"\n",
    "else:\n",
    "    matrix_type = \"max_distance\"\n",
    "    unit = \"metres\""
   ]
  },
  {
   "cell_type": "code",
   "execution_count": 63,
   "metadata": {},
   "outputs": [
    {
     "data": {
      "text/plain": [
       "(48, 48)"
      ]
     },
     "execution_count": 63,
     "metadata": {},
     "output_type": "execute_result"
    }
   ],
   "source": [
    "distance_matrix.shape"
   ]
  },
  {
   "cell_type": "code",
   "execution_count": 64,
   "metadata": {},
   "outputs": [],
   "source": [
    "#ratings = np.array([ 4,  4,  2,  3])\n",
    "\n",
    "ratings = df['rating'].values\n"
   ]
  },
  {
   "cell_type": "code",
   "execution_count": 65,
   "metadata": {},
   "outputs": [
    {
     "data": {
      "text/plain": [
       "(48,)"
      ]
     },
     "execution_count": 65,
     "metadata": {},
     "output_type": "execute_result"
    }
   ],
   "source": [
    "ratings.shape"
   ]
  },
  {
   "cell_type": "code",
   "execution_count": 66,
   "metadata": {},
   "outputs": [],
   "source": [
    "# set max_distance/duration here\n",
    "max_distance = 'no limit'\n",
    "if max_distance == 'no limit':\n",
    "    unit = ''"
   ]
  },
  {
   "cell_type": "code",
   "execution_count": 67,
   "metadata": {},
   "outputs": [],
   "source": [
    "def create_submatrix(matrix, indices):\n",
    "    # Assuming matrix is a NumPy array\n",
    "    # indices is a list of 1D indices\n",
    "\n",
    "    # Use NumPy to create a submatrix using the indices\n",
    "    submatrix = matrix[indices, :][:, indices]\n",
    "\n",
    "    return submatrix"
   ]
  },
  {
   "cell_type": "code",
   "execution_count": 68,
   "metadata": {},
   "outputs": [],
   "source": [
    "# 900 seconds constraint\n",
    "sol = pd.read_csv(\"E:\\Work\\DS\\Optimization\\Term Project\\git\\output//solutions//solutions_max_duration_0900seconds_3.csv\", header = None)\n",
    "obj_val = pd.read_csv(\"E:\\Work\\DS\\Optimization\\Term Project\\git\\output//objective function values//objective_function_values_max_duration_0900seconds_3.csv\", header = None)\n",
    "\n",
    "# 7200 seconds constraint\n",
    "#sol = pd.read_csv(\"E:\\Work\\DS\\Optimization\\Term Project\\git\\output//solutions//solutions_max_duration_7200seconds_3.csv\", header = None)\n",
    "#obj_val = pd.read_csv(\"E:\\Work\\DS\\Optimization\\Term Project\\git\\output//objective function values//objective_function_values_max_duration_7200seconds_3.csv\", header = None)\n",
    "\n",
    "# 30000 metres constraint\n",
    "#sol = pd.read_csv(\"E:\\Work\\DS\\Optimization\\Term Project\\git\\output//solutions//solutions_max_distance_30000metres_3.csv\", header = None)\n",
    "#obj_val = pd.read_csv(\"E:\\Work\\DS\\Optimization\\Term Project\\git\\output//objective function values//objective_function_values_max_distance_30000metres_3.csv\", header = None)"
   ]
  },
  {
   "cell_type": "code",
   "execution_count": 69,
   "metadata": {},
   "outputs": [
    {
     "data": {
      "text/html": [
       "<div>\n",
       "<style scoped>\n",
       "    .dataframe tbody tr th:only-of-type {\n",
       "        vertical-align: middle;\n",
       "    }\n",
       "\n",
       "    .dataframe tbody tr th {\n",
       "        vertical-align: top;\n",
       "    }\n",
       "\n",
       "    .dataframe thead th {\n",
       "        text-align: right;\n",
       "    }\n",
       "</style>\n",
       "<table border=\"1\" class=\"dataframe\">\n",
       "  <thead>\n",
       "    <tr style=\"text-align: right;\">\n",
       "      <th></th>\n",
       "      <th>0</th>\n",
       "      <th>1</th>\n",
       "    </tr>\n",
       "  </thead>\n",
       "  <tbody>\n",
       "    <tr>\n",
       "      <th>1</th>\n",
       "      <td>12.0</td>\n",
       "      <td>4.583333</td>\n",
       "    </tr>\n",
       "    <tr>\n",
       "      <th>3</th>\n",
       "      <td>12.0</td>\n",
       "      <td>4.583333</td>\n",
       "    </tr>\n",
       "  </tbody>\n",
       "</table>\n",
       "</div>"
      ],
      "text/plain": [
       "      0         1\n",
       "1  12.0  4.583333\n",
       "3  12.0  4.583333"
      ]
     },
     "execution_count": 69,
     "metadata": {},
     "output_type": "execute_result"
    }
   ],
   "source": [
    "obj_val[obj_val.iloc[:,0] == 12]"
   ]
  },
  {
   "cell_type": "code",
   "execution_count": 70,
   "metadata": {},
   "outputs": [],
   "source": [
    "solutions = np.array([np.unique(x) for x in np.sort(sol[obj_val.iloc[:,0] == 12])])\n",
    "unique_set_solutions = np.unique(solutions, axis = 0)"
   ]
  },
  {
   "cell_type": "code",
   "execution_count": 71,
   "metadata": {},
   "outputs": [
    {
     "data": {
      "text/plain": [
       "array([[ 1,  2,  4,  8, 10, 11, 12, 14, 15, 17, 19, 20]], dtype=int64)"
      ]
     },
     "execution_count": 71,
     "metadata": {},
     "output_type": "execute_result"
    }
   ],
   "source": [
    "unique_set_solutions"
   ]
  },
  {
   "cell_type": "markdown",
   "metadata": {},
   "source": [
    "Get a prefered solution set:"
   ]
  },
  {
   "cell_type": "code",
   "execution_count": 72,
   "metadata": {},
   "outputs": [
    {
     "name": "stdout",
     "output_type": "stream",
     "text": [
      "=================================================================================\n",
      "n_gen  |  n_eval  |     cv_min    |     cv_avg    |     f_avg     |     f_min    \n",
      "=================================================================================\n",
      "     1 |       30 |  0.000000E+00 |  0.000000E+00 |  1.729767E+03 |  1.488000E+03\n",
      "     2 |       60 |  0.000000E+00 |  0.000000E+00 |  1.532433E+03 |  1.173000E+03\n",
      "     3 |       90 |  0.000000E+00 |  0.000000E+00 |  1.464133E+03 |  1.173000E+03\n",
      "     4 |      120 |  0.000000E+00 |  0.000000E+00 |  1.413367E+03 |  1.173000E+03\n",
      "     5 |      150 |  0.000000E+00 |  0.000000E+00 |  1.359100E+03 |  1.173000E+03\n",
      "     6 |      180 |  0.000000E+00 |  0.000000E+00 |  1.315500E+03 |  1.164000E+03\n",
      "     7 |      210 |  0.000000E+00 |  0.000000E+00 |  1.264500E+03 |  1.092000E+03\n",
      "     8 |      240 |  0.000000E+00 |  0.000000E+00 |  1.220233E+03 |  1.092000E+03\n",
      "     9 |      270 |  0.000000E+00 |  0.000000E+00 |  1.198133E+03 |  1.092000E+03\n",
      "    10 |      300 |  0.000000E+00 |  0.000000E+00 |  1.191500E+03 |  1.092000E+03\n",
      "    11 |      330 |  0.000000E+00 |  0.000000E+00 |  1.187533E+03 |  1.092000E+03\n",
      "    12 |      360 |  0.000000E+00 |  0.000000E+00 |  1.180400E+03 |  1.092000E+03\n",
      "    13 |      390 |  0.000000E+00 |  0.000000E+00 |  1.156867E+03 |  1.092000E+03\n",
      "    14 |      420 |  0.000000E+00 |  0.000000E+00 |  1.149567E+03 |  1.078000E+03\n",
      "    15 |      450 |  0.000000E+00 |  0.000000E+00 |  1.122267E+03 |  9.470000E+02\n",
      "    16 |      480 |  0.000000E+00 |  0.000000E+00 |  1.113567E+03 |  9.470000E+02\n",
      "    17 |      510 |  0.000000E+00 |  0.000000E+00 |  1.110333E+03 |  9.470000E+02\n",
      "    18 |      540 |  0.000000E+00 |  0.000000E+00 |  1.104867E+03 |  9.470000E+02\n",
      "    19 |      570 |  0.000000E+00 |  0.000000E+00 |  1.092433E+03 |  9.470000E+02\n",
      "    20 |      600 |  0.000000E+00 |  0.000000E+00 |  1.085367E+03 |  9.470000E+02\n",
      "    21 |      630 |  0.000000E+00 |  0.000000E+00 |  1.075133E+03 |  9.470000E+02\n",
      "    22 |      660 |  0.000000E+00 |  0.000000E+00 |  1.065467E+03 |  9.470000E+02\n",
      "    23 |      690 |  0.000000E+00 |  0.000000E+00 |  1.053767E+03 |  9.470000E+02\n",
      "    24 |      720 |  0.000000E+00 |  0.000000E+00 |  1.047100E+03 |  9.470000E+02\n",
      "    25 |      750 |  0.000000E+00 |  0.000000E+00 |  1.034233E+03 |  9.360000E+02\n",
      "    26 |      780 |  0.000000E+00 |  0.000000E+00 |  1.028967E+03 |  9.360000E+02\n",
      "    27 |      810 |  0.000000E+00 |  0.000000E+00 |  1.018633E+03 |  9.360000E+02\n",
      "    28 |      840 |  0.000000E+00 |  0.000000E+00 |  1.005033E+03 |  9.360000E+02\n",
      "    29 |      870 |  0.000000E+00 |  0.000000E+00 |  9.983333E+02 |  8.890000E+02\n",
      "    30 |      900 |  0.000000E+00 |  0.000000E+00 |  9.953333E+02 |  8.890000E+02\n",
      "    31 |      930 |  0.000000E+00 |  0.000000E+00 |  9.828000E+02 |  8.570000E+02\n",
      "    32 |      960 |  0.000000E+00 |  0.000000E+00 |  9.759333E+02 |  8.570000E+02\n",
      "    33 |      990 |  0.000000E+00 |  0.000000E+00 |  9.671000E+02 |  8.570000E+02\n",
      "    34 |     1020 |  0.000000E+00 |  0.000000E+00 |  9.646333E+02 |  8.570000E+02\n",
      "    35 |     1050 |  0.000000E+00 |  0.000000E+00 |  9.586000E+02 |  8.570000E+02\n",
      "    36 |     1080 |  0.000000E+00 |  0.000000E+00 |  9.571000E+02 |  8.570000E+02\n",
      "    37 |     1110 |  0.000000E+00 |  0.000000E+00 |  9.553000E+02 |  8.570000E+02\n",
      "    38 |     1140 |  0.000000E+00 |  0.000000E+00 |  9.441333E+02 |  8.570000E+02\n",
      "    39 |     1170 |  0.000000E+00 |  0.000000E+00 |  9.403667E+02 |  8.570000E+02\n",
      "    40 |     1200 |  0.000000E+00 |  0.000000E+00 |  9.328333E+02 |  8.570000E+02\n",
      "    41 |     1230 |  0.000000E+00 |  0.000000E+00 |  9.295667E+02 |  8.570000E+02\n",
      "    42 |     1260 |  0.000000E+00 |  0.000000E+00 |  9.222333E+02 |  8.000000E+02\n",
      "    43 |     1290 |  0.000000E+00 |  0.000000E+00 |  9.217667E+02 |  8.000000E+02\n",
      "    44 |     1320 |  0.000000E+00 |  0.000000E+00 |  9.135667E+02 |  8.000000E+02\n",
      "    45 |     1350 |  0.000000E+00 |  0.000000E+00 |  9.125667E+02 |  8.000000E+02\n",
      "    46 |     1380 |  0.000000E+00 |  0.000000E+00 |  9.115667E+02 |  8.000000E+02\n",
      "    47 |     1410 |  0.000000E+00 |  0.000000E+00 |  9.105000E+02 |  8.000000E+02\n",
      "    48 |     1440 |  0.000000E+00 |  0.000000E+00 |  9.101000E+02 |  8.000000E+02\n",
      "    49 |     1470 |  0.000000E+00 |  0.000000E+00 |  9.039333E+02 |  8.000000E+02\n",
      "    50 |     1500 |  0.000000E+00 |  0.000000E+00 |  8.985667E+02 |  8.000000E+02\n",
      "    51 |     1530 |  0.000000E+00 |  0.000000E+00 |  8.920000E+02 |  8.000000E+02\n",
      "    52 |     1560 |  0.000000E+00 |  0.000000E+00 |  8.889667E+02 |  8.000000E+02\n",
      "    53 |     1590 |  0.000000E+00 |  0.000000E+00 |  8.889667E+02 |  8.000000E+02\n",
      "    54 |     1620 |  0.000000E+00 |  0.000000E+00 |  8.889667E+02 |  8.000000E+02\n",
      "    55 |     1650 |  0.000000E+00 |  0.000000E+00 |  8.867667E+02 |  8.000000E+02\n",
      "    56 |     1680 |  0.000000E+00 |  0.000000E+00 |  8.851000E+02 |  8.000000E+02\n",
      "    57 |     1710 |  0.000000E+00 |  0.000000E+00 |  8.851000E+02 |  8.000000E+02\n",
      "    58 |     1740 |  0.000000E+00 |  0.000000E+00 |  8.800000E+02 |  8.000000E+02\n",
      "    59 |     1770 |  0.000000E+00 |  0.000000E+00 |  8.795333E+02 |  8.000000E+02\n",
      "    60 |     1800 |  0.000000E+00 |  0.000000E+00 |  8.760000E+02 |  8.000000E+02\n",
      "    61 |     1830 |  0.000000E+00 |  0.000000E+00 |  8.737333E+02 |  8.000000E+02\n",
      "    62 |     1860 |  0.000000E+00 |  0.000000E+00 |  8.717667E+02 |  8.000000E+02\n",
      "    63 |     1890 |  0.000000E+00 |  0.000000E+00 |  8.684333E+02 |  8.000000E+02\n",
      "    64 |     1920 |  0.000000E+00 |  0.000000E+00 |  8.684333E+02 |  8.000000E+02\n",
      "    65 |     1950 |  0.000000E+00 |  0.000000E+00 |  8.675000E+02 |  8.000000E+02\n",
      "    66 |     1980 |  0.000000E+00 |  0.000000E+00 |  8.637667E+02 |  7.910000E+02\n",
      "    67 |     2010 |  0.000000E+00 |  0.000000E+00 |  8.582667E+02 |  7.910000E+02\n",
      "    68 |     2040 |  0.000000E+00 |  0.000000E+00 |  8.582667E+02 |  7.910000E+02\n"
     ]
    },
    {
     "name": "stdout",
     "output_type": "stream",
     "text": [
      "    69 |     2070 |  0.000000E+00 |  0.000000E+00 |  8.525333E+02 |  7.910000E+02\n",
      "    70 |     2100 |  0.000000E+00 |  0.000000E+00 |  8.525333E+02 |  7.910000E+02\n",
      "    71 |     2130 |  0.000000E+00 |  0.000000E+00 |  8.515333E+02 |  7.910000E+02\n",
      "    72 |     2160 |  0.000000E+00 |  0.000000E+00 |  8.515333E+02 |  7.910000E+02\n",
      "    73 |     2190 |  0.000000E+00 |  0.000000E+00 |  8.496333E+02 |  7.910000E+02\n",
      "    74 |     2220 |  0.000000E+00 |  0.000000E+00 |  8.496333E+02 |  7.910000E+02\n",
      "    75 |     2250 |  0.000000E+00 |  0.000000E+00 |  8.496333E+02 |  7.910000E+02\n",
      "    76 |     2280 |  0.000000E+00 |  0.000000E+00 |  8.495333E+02 |  7.910000E+02\n",
      "    77 |     2310 |  0.000000E+00 |  0.000000E+00 |  8.472333E+02 |  7.910000E+02\n",
      "    78 |     2340 |  0.000000E+00 |  0.000000E+00 |  8.457000E+02 |  7.910000E+02\n",
      "    79 |     2370 |  0.000000E+00 |  0.000000E+00 |  8.457000E+02 |  7.910000E+02\n",
      "    80 |     2400 |  0.000000E+00 |  0.000000E+00 |  8.457000E+02 |  7.910000E+02\n",
      "    81 |     2430 |  0.000000E+00 |  0.000000E+00 |  8.457000E+02 |  7.910000E+02\n",
      "    82 |     2460 |  0.000000E+00 |  0.000000E+00 |  8.457000E+02 |  7.910000E+02\n",
      "    83 |     2490 |  0.000000E+00 |  0.000000E+00 |  8.457000E+02 |  7.910000E+02\n",
      "    84 |     2520 |  0.000000E+00 |  0.000000E+00 |  8.453000E+02 |  7.910000E+02\n",
      "    85 |     2550 |  0.000000E+00 |  0.000000E+00 |  8.453000E+02 |  7.910000E+02\n",
      "    86 |     2580 |  0.000000E+00 |  0.000000E+00 |  8.453000E+02 |  7.910000E+02\n",
      "    87 |     2610 |  0.000000E+00 |  0.000000E+00 |  8.453000E+02 |  7.910000E+02\n",
      "    88 |     2640 |  0.000000E+00 |  0.000000E+00 |  8.453000E+02 |  7.910000E+02\n",
      "    89 |     2670 |  0.000000E+00 |  0.000000E+00 |  8.453000E+02 |  7.910000E+02\n",
      "    90 |     2700 |  0.000000E+00 |  0.000000E+00 |  8.451333E+02 |  7.910000E+02\n",
      "    91 |     2730 |  0.000000E+00 |  0.000000E+00 |  8.449000E+02 |  7.910000E+02\n",
      "    92 |     2760 |  0.000000E+00 |  0.000000E+00 |  8.449000E+02 |  7.910000E+02\n",
      "    93 |     2790 |  0.000000E+00 |  0.000000E+00 |  8.449000E+02 |  7.910000E+02\n",
      "    94 |     2820 |  0.000000E+00 |  0.000000E+00 |  8.449000E+02 |  7.910000E+02\n",
      "    95 |     2850 |  0.000000E+00 |  0.000000E+00 |  8.434667E+02 |  7.910000E+02\n",
      "    96 |     2880 |  0.000000E+00 |  0.000000E+00 |  8.434667E+02 |  7.910000E+02\n",
      "    97 |     2910 |  0.000000E+00 |  0.000000E+00 |  8.434667E+02 |  7.910000E+02\n",
      "    98 |     2940 |  0.000000E+00 |  0.000000E+00 |  8.434667E+02 |  7.910000E+02\n",
      "    99 |     2970 |  0.000000E+00 |  0.000000E+00 |  8.434667E+02 |  7.910000E+02\n",
      "   100 |     3000 |  0.000000E+00 |  0.000000E+00 |  8.434333E+02 |  7.910000E+02\n",
      "   101 |     3030 |  0.000000E+00 |  0.000000E+00 |  8.424333E+02 |  7.910000E+02\n",
      "   102 |     3060 |  0.000000E+00 |  0.000000E+00 |  8.424333E+02 |  7.910000E+02\n",
      "   103 |     3090 |  0.000000E+00 |  0.000000E+00 |  8.424333E+02 |  7.910000E+02\n",
      "   104 |     3120 |  0.000000E+00 |  0.000000E+00 |  8.424333E+02 |  7.910000E+02\n",
      "   105 |     3150 |  0.000000E+00 |  0.000000E+00 |  8.412000E+02 |  7.910000E+02\n",
      "   106 |     3180 |  0.000000E+00 |  0.000000E+00 |  8.405333E+02 |  7.910000E+02\n",
      "   107 |     3210 |  0.000000E+00 |  0.000000E+00 |  8.405333E+02 |  7.910000E+02\n",
      "   108 |     3240 |  0.000000E+00 |  0.000000E+00 |  8.405333E+02 |  7.910000E+02\n",
      "   109 |     3270 |  0.000000E+00 |  0.000000E+00 |  8.405333E+02 |  7.910000E+02\n",
      "   110 |     3300 |  0.000000E+00 |  0.000000E+00 |  8.405333E+02 |  7.910000E+02\n",
      "   111 |     3330 |  0.000000E+00 |  0.000000E+00 |  8.405333E+02 |  7.910000E+02\n",
      "   112 |     3360 |  0.000000E+00 |  0.000000E+00 |  8.405333E+02 |  7.910000E+02\n",
      "   113 |     3390 |  0.000000E+00 |  0.000000E+00 |  8.405333E+02 |  7.910000E+02\n",
      "   114 |     3420 |  0.000000E+00 |  0.000000E+00 |  8.405333E+02 |  7.910000E+02\n",
      "   115 |     3450 |  0.000000E+00 |  0.000000E+00 |  8.405333E+02 |  7.910000E+02\n",
      "   116 |     3480 |  0.000000E+00 |  0.000000E+00 |  8.405333E+02 |  7.910000E+02\n",
      "   117 |     3510 |  0.000000E+00 |  0.000000E+00 |  8.405333E+02 |  7.910000E+02\n",
      "   118 |     3540 |  0.000000E+00 |  0.000000E+00 |  8.395000E+02 |  7.910000E+02\n",
      "   119 |     3570 |  0.000000E+00 |  0.000000E+00 |  8.395000E+02 |  7.910000E+02\n",
      "   120 |     3600 |  0.000000E+00 |  0.000000E+00 |  8.395000E+02 |  7.910000E+02\n",
      "   121 |     3630 |  0.000000E+00 |  0.000000E+00 |  8.395000E+02 |  7.910000E+02\n",
      "   122 |     3660 |  0.000000E+00 |  0.000000E+00 |  8.382667E+02 |  7.910000E+02\n",
      "   123 |     3690 |  0.000000E+00 |  0.000000E+00 |  8.382667E+02 |  7.910000E+02\n",
      "   124 |     3720 |  0.000000E+00 |  0.000000E+00 |  8.382667E+02 |  7.910000E+02\n",
      "   125 |     3750 |  0.000000E+00 |  0.000000E+00 |  8.382667E+02 |  7.910000E+02\n",
      "   126 |     3780 |  0.000000E+00 |  0.000000E+00 |  8.382667E+02 |  7.910000E+02\n",
      "   127 |     3810 |  0.000000E+00 |  0.000000E+00 |  8.382667E+02 |  7.910000E+02\n",
      "   128 |     3840 |  0.000000E+00 |  0.000000E+00 |  8.374000E+02 |  7.910000E+02\n",
      "   129 |     3870 |  0.000000E+00 |  0.000000E+00 |  8.374000E+02 |  7.910000E+02\n",
      "   130 |     3900 |  0.000000E+00 |  0.000000E+00 |  8.372000E+02 |  7.910000E+02\n",
      "   131 |     3930 |  0.000000E+00 |  0.000000E+00 |  8.372000E+02 |  7.910000E+02\n",
      "   132 |     3960 |  0.000000E+00 |  0.000000E+00 |  8.372000E+02 |  7.910000E+02\n",
      "   133 |     3990 |  0.000000E+00 |  0.000000E+00 |  8.372000E+02 |  7.910000E+02\n",
      "   134 |     4020 |  0.000000E+00 |  0.000000E+00 |  8.372000E+02 |  7.910000E+02\n",
      "   135 |     4050 |  0.000000E+00 |  0.000000E+00 |  8.372000E+02 |  7.910000E+02\n",
      "   136 |     4080 |  0.000000E+00 |  0.000000E+00 |  8.372000E+02 |  7.910000E+02\n",
      "   137 |     4110 |  0.000000E+00 |  0.000000E+00 |  8.364000E+02 |  7.910000E+02\n",
      "   138 |     4140 |  0.000000E+00 |  0.000000E+00 |  8.364000E+02 |  7.910000E+02\n",
      "   139 |     4170 |  0.000000E+00 |  0.000000E+00 |  8.364000E+02 |  7.910000E+02\n",
      "   140 |     4200 |  0.000000E+00 |  0.000000E+00 |  8.364000E+02 |  7.910000E+02\n",
      "   141 |     4230 |  0.000000E+00 |  0.000000E+00 |  8.364000E+02 |  7.910000E+02\n",
      "   142 |     4260 |  0.000000E+00 |  0.000000E+00 |  8.364000E+02 |  7.910000E+02\n",
      "   143 |     4290 |  0.000000E+00 |  0.000000E+00 |  8.356333E+02 |  7.910000E+02\n",
      "   144 |     4320 |  0.000000E+00 |  0.000000E+00 |  8.343333E+02 |  7.910000E+02\n",
      "   145 |     4350 |  0.000000E+00 |  0.000000E+00 |  8.343333E+02 |  7.910000E+02\n",
      "   146 |     4380 |  0.000000E+00 |  0.000000E+00 |  8.342667E+02 |  7.910000E+02\n",
      "   147 |     4410 |  0.000000E+00 |  0.000000E+00 |  8.342667E+02 |  7.910000E+02\n",
      "   148 |     4440 |  0.000000E+00 |  0.000000E+00 |  8.342667E+02 |  7.910000E+02\n",
      "   149 |     4470 |  0.000000E+00 |  0.000000E+00 |  8.342667E+02 |  7.910000E+02\n",
      "   150 |     4500 |  0.000000E+00 |  0.000000E+00 |  8.342667E+02 |  7.910000E+02\n",
      "   151 |     4530 |  0.000000E+00 |  0.000000E+00 |  8.342667E+02 |  7.910000E+02\n",
      "   152 |     4560 |  0.000000E+00 |  0.000000E+00 |  8.327667E+02 |  7.910000E+02\n",
      "   153 |     4590 |  0.000000E+00 |  0.000000E+00 |  8.327667E+02 |  7.910000E+02\n",
      "   154 |     4620 |  0.000000E+00 |  0.000000E+00 |  8.327667E+02 |  7.910000E+02\n",
      "   155 |     4650 |  0.000000E+00 |  0.000000E+00 |  8.327667E+02 |  7.910000E+02\n",
      "   156 |     4680 |  0.000000E+00 |  0.000000E+00 |  8.327667E+02 |  7.910000E+02\n",
      "   157 |     4710 |  0.000000E+00 |  0.000000E+00 |  8.327667E+02 |  7.910000E+02\n",
      "   158 |     4740 |  0.000000E+00 |  0.000000E+00 |  8.327667E+02 |  7.910000E+02\n",
      "   159 |     4770 |  0.000000E+00 |  0.000000E+00 |  8.326667E+02 |  7.910000E+02\n",
      "   160 |     4800 |  0.000000E+00 |  0.000000E+00 |  8.326667E+02 |  7.910000E+02\n",
      "   161 |     4830 |  0.000000E+00 |  0.000000E+00 |  8.326667E+02 |  7.910000E+02\n",
      "   162 |     4860 |  0.000000E+00 |  0.000000E+00 |  8.313333E+02 |  7.910000E+02\n",
      "   163 |     4890 |  0.000000E+00 |  0.000000E+00 |  8.313333E+02 |  7.910000E+02\n",
      "   164 |     4920 |  0.000000E+00 |  0.000000E+00 |  8.297333E+02 |  7.910000E+02\n",
      "   165 |     4950 |  0.000000E+00 |  0.000000E+00 |  8.297333E+02 |  7.910000E+02\n",
      "   166 |     4980 |  0.000000E+00 |  0.000000E+00 |  8.297333E+02 |  7.910000E+02\n",
      "   167 |     5010 |  0.000000E+00 |  0.000000E+00 |  8.297333E+02 |  7.910000E+02\n",
      "   168 |     5040 |  0.000000E+00 |  0.000000E+00 |  8.284333E+02 |  7.910000E+02\n",
      "   169 |     5070 |  0.000000E+00 |  0.000000E+00 |  8.284333E+02 |  7.910000E+02\n",
      "   170 |     5100 |  0.000000E+00 |  0.000000E+00 |  8.284333E+02 |  7.910000E+02\n",
      "   171 |     5130 |  0.000000E+00 |  0.000000E+00 |  8.284333E+02 |  7.910000E+02\n",
      "   172 |     5160 |  0.000000E+00 |  0.000000E+00 |  8.284333E+02 |  7.910000E+02\n",
      "   173 |     5190 |  0.000000E+00 |  0.000000E+00 |  8.284333E+02 |  7.910000E+02\n",
      "   174 |     5220 |  0.000000E+00 |  0.000000E+00 |  8.284333E+02 |  7.910000E+02\n",
      "   175 |     5250 |  0.000000E+00 |  0.000000E+00 |  8.284333E+02 |  7.910000E+02\n",
      "   176 |     5280 |  0.000000E+00 |  0.000000E+00 |  8.284333E+02 |  7.910000E+02\n",
      "   177 |     5310 |  0.000000E+00 |  0.000000E+00 |  8.282333E+02 |  7.910000E+02\n",
      "   178 |     5340 |  0.000000E+00 |  0.000000E+00 |  8.282333E+02 |  7.910000E+02\n",
      "   179 |     5370 |  0.000000E+00 |  0.000000E+00 |  8.282333E+02 |  7.910000E+02\n",
      "   180 |     5400 |  0.000000E+00 |  0.000000E+00 |  8.282333E+02 |  7.910000E+02\n",
      "   181 |     5430 |  0.000000E+00 |  0.000000E+00 |  8.282333E+02 |  7.910000E+02\n",
      "   182 |     5460 |  0.000000E+00 |  0.000000E+00 |  8.282333E+02 |  7.910000E+02\n",
      "   183 |     5490 |  0.000000E+00 |  0.000000E+00 |  8.282333E+02 |  7.910000E+02\n",
      "   184 |     5520 |  0.000000E+00 |  0.000000E+00 |  8.282333E+02 |  7.910000E+02\n",
      "   185 |     5550 |  0.000000E+00 |  0.000000E+00 |  8.282333E+02 |  7.910000E+02\n",
      "   186 |     5580 |  0.000000E+00 |  0.000000E+00 |  8.282333E+02 |  7.910000E+02\n",
      "   187 |     5610 |  0.000000E+00 |  0.000000E+00 |  8.280333E+02 |  7.910000E+02\n",
      "   188 |     5640 |  0.000000E+00 |  0.000000E+00 |  8.280333E+02 |  7.910000E+02\n",
      "   189 |     5670 |  0.000000E+00 |  0.000000E+00 |  8.280333E+02 |  7.910000E+02\n",
      "   190 |     5700 |  0.000000E+00 |  0.000000E+00 |  8.280333E+02 |  7.910000E+02\n",
      "   191 |     5730 |  0.000000E+00 |  0.000000E+00 |  8.280333E+02 |  7.910000E+02\n",
      "   192 |     5760 |  0.000000E+00 |  0.000000E+00 |  8.280333E+02 |  7.910000E+02\n",
      "   193 |     5790 |  0.000000E+00 |  0.000000E+00 |  8.280333E+02 |  7.910000E+02\n",
      "   194 |     5820 |  0.000000E+00 |  0.000000E+00 |  8.280333E+02 |  7.910000E+02\n",
      "   195 |     5850 |  0.000000E+00 |  0.000000E+00 |  8.276333E+02 |  7.910000E+02\n",
      "   196 |     5880 |  0.000000E+00 |  0.000000E+00 |  8.276333E+02 |  7.910000E+02\n",
      "   197 |     5910 |  0.000000E+00 |  0.000000E+00 |  8.276333E+02 |  7.910000E+02\n",
      "   198 |     5940 |  0.000000E+00 |  0.000000E+00 |  8.276333E+02 |  7.910000E+02\n",
      "   199 |     5970 |  0.000000E+00 |  0.000000E+00 |  8.276333E+02 |  7.910000E+02\n",
      "   200 |     6000 |  0.000000E+00 |  0.000000E+00 |  8.276333E+02 |  7.910000E+02\n",
      "   201 |     6030 |  0.000000E+00 |  0.000000E+00 |  8.275333E+02 |  7.910000E+02\n",
      "   202 |     6060 |  0.000000E+00 |  0.000000E+00 |  8.275333E+02 |  7.910000E+02\n",
      "   203 |     6090 |  0.000000E+00 |  0.000000E+00 |  8.275333E+02 |  7.910000E+02\n",
      "   204 |     6120 |  0.000000E+00 |  0.000000E+00 |  8.275333E+02 |  7.910000E+02\n",
      "   205 |     6150 |  0.000000E+00 |  0.000000E+00 |  8.275333E+02 |  7.910000E+02\n",
      "   206 |     6180 |  0.000000E+00 |  0.000000E+00 |  8.275333E+02 |  7.910000E+02\n",
      "   207 |     6210 |  0.000000E+00 |  0.000000E+00 |  8.275333E+02 |  7.910000E+02\n",
      "   208 |     6240 |  0.000000E+00 |  0.000000E+00 |  8.275333E+02 |  7.910000E+02\n",
      "   209 |     6270 |  0.000000E+00 |  0.000000E+00 |  8.275333E+02 |  7.910000E+02\n",
      "   210 |     6300 |  0.000000E+00 |  0.000000E+00 |  8.275333E+02 |  7.910000E+02\n",
      "   211 |     6330 |  0.000000E+00 |  0.000000E+00 |  8.275333E+02 |  7.910000E+02\n",
      "   212 |     6360 |  0.000000E+00 |  0.000000E+00 |  8.275333E+02 |  7.910000E+02\n",
      "   213 |     6390 |  0.000000E+00 |  0.000000E+00 |  8.275333E+02 |  7.910000E+02\n",
      "   214 |     6420 |  0.000000E+00 |  0.000000E+00 |  8.275333E+02 |  7.910000E+02\n",
      "   215 |     6450 |  0.000000E+00 |  0.000000E+00 |  8.275333E+02 |  7.910000E+02\n",
      "   216 |     6480 |  0.000000E+00 |  0.000000E+00 |  8.275333E+02 |  7.910000E+02\n",
      "   217 |     6510 |  0.000000E+00 |  0.000000E+00 |  8.275333E+02 |  7.910000E+02\n",
      "   218 |     6540 |  0.000000E+00 |  0.000000E+00 |  8.275333E+02 |  7.910000E+02\n",
      "   219 |     6570 |  0.000000E+00 |  0.000000E+00 |  8.275333E+02 |  7.910000E+02\n",
      "   220 |     6600 |  0.000000E+00 |  0.000000E+00 |  8.275333E+02 |  7.910000E+02\n",
      "   221 |     6630 |  0.000000E+00 |  0.000000E+00 |  8.275333E+02 |  7.910000E+02\n",
      "   222 |     6660 |  0.000000E+00 |  0.000000E+00 |  8.275333E+02 |  7.910000E+02\n",
      "   223 |     6690 |  0.000000E+00 |  0.000000E+00 |  8.275333E+02 |  7.910000E+02\n",
      "   224 |     6720 |  0.000000E+00 |  0.000000E+00 |  8.275333E+02 |  7.910000E+02\n",
      "   225 |     6750 |  0.000000E+00 |  0.000000E+00 |  8.275333E+02 |  7.910000E+02\n",
      "   226 |     6780 |  0.000000E+00 |  0.000000E+00 |  8.275333E+02 |  7.910000E+02\n",
      "   227 |     6810 |  0.000000E+00 |  0.000000E+00 |  8.275333E+02 |  7.910000E+02\n",
      "   228 |     6840 |  0.000000E+00 |  0.000000E+00 |  8.275333E+02 |  7.910000E+02\n",
      "   229 |     6870 |  0.000000E+00 |  0.000000E+00 |  8.275333E+02 |  7.910000E+02\n",
      "   230 |     6900 |  0.000000E+00 |  0.000000E+00 |  8.275333E+02 |  7.910000E+02\n",
      "   231 |     6930 |  0.000000E+00 |  0.000000E+00 |  8.275333E+02 |  7.910000E+02\n"
     ]
    }
   ],
   "source": [
    "results = []\n",
    "\n",
    "for i in range(len(unique_set_solutions)):\n",
    "    # if choose number of cafes\n",
    "    different_places_preferred = unique_set_solutions[i]\n",
    "\n",
    "    # project the chosen cafes onto the distance/duration matrix\n",
    "    distance_sub_matrix = create_submatrix(distance_matrix, different_places_preferred)\n",
    "\n",
    "    # Define the problem\n",
    "    problem = CustomPermutationProblem(len(different_places_preferred),distance_sub_matrix,max_distance)\n",
    "\n",
    "    # Define the optimization algorithm (genetic algorithm in this case)\n",
    "    algorithm = GA(\n",
    "        pop_size=30,\n",
    "        sampling=PermutationRandomSampling(),   \n",
    "        mutation=InversionMutation(),\n",
    "        crossover=OrderCrossover(),\n",
    "        eliminate_duplicates=True)\n",
    "\n",
    "    # Optimize the problem\n",
    "    # if the algorithm did not improve the last 200 generations then it will terminate (and disable the max generations)\n",
    "    termination = DefaultSingleObjectiveTermination(period=200, n_max_gen=np.inf)\n",
    "\n",
    "    result = minimize(\n",
    "        problem,\n",
    "        algorithm,\n",
    "        termination,\n",
    "        seed=1,\n",
    "        verbose = True,\n",
    "        save_history = True\n",
    "    )\n",
    "\n",
    "    results.append((result.X,result.F))\n"
   ]
  },
  {
   "cell_type": "markdown",
   "metadata": {},
   "source": [
    "## Convergence"
   ]
  },
  {
   "cell_type": "code",
   "execution_count": 73,
   "metadata": {},
   "outputs": [],
   "source": [
    "hist = result.history\n",
    "X, F = result.X,result.F"
   ]
  },
  {
   "cell_type": "code",
   "execution_count": 74,
   "metadata": {},
   "outputs": [],
   "source": [
    "n_evals = []             # corresponding number of function evaluations\\\n",
    "hist_F = []              # the objective space values in each generation\n",
    "hist_cv = []             # constraint violation in each generation\n",
    "hist_cv_avg = []         # average constraint violation in the whole population\n",
    "\n",
    "for algo in hist:\n",
    "\n",
    "    # store the number of function evaluations\n",
    "    n_evals.append(algo.evaluator.n_eval)\n",
    "\n",
    "    # retrieve the optimum from the algorithm\n",
    "    opt = algo.opt\n",
    "\n",
    "    # store the least contraint violation and the average in each population\n",
    "    hist_cv.append(opt.get(\"CV\").min())\n",
    "    hist_cv_avg.append(algo.pop.get(\"CV\").mean())\n",
    "\n",
    "    # filter out only the feasible and append and objective space values\n",
    "    feas = np.where(opt.get(\"feasible\"))[0]\n",
    "    hist_F.append(opt.get(\"F\")[feas])"
   ]
  },
  {
   "cell_type": "code",
   "execution_count": 75,
   "metadata": {},
   "outputs": [
    {
     "data": {
      "image/png": "[encoded data removed]",
      "text/plain": [
       "<Figure size 640x480 with 1 Axes>"
      ]
     },
     "metadata": {},
     "output_type": "display_data"
    }
   ],
   "source": [
    "n_evals = np.array([e.evaluator.n_eval for e in result.history])\n",
    "opt = np.array([e.opt[0].F for e in result.history])\n",
    "\n",
    "plt.title(\"Convergence\")\n",
    "plt.xlabel(\"Function Evaluations\")\n",
    "plt.ylabel(\"Objective Function Value\")\n",
    "plt.plot(n_evals, opt, \"--\")\n",
    "plt.show()"
   ]
  },
  {
   "cell_type": "markdown",
   "metadata": {},
   "source": [
    "### Solution"
   ]
  },
  {
   "cell_type": "markdown",
   "metadata": {},
   "source": [
    "First, fine the actual best path:"
   ]
  },
  {
   "cell_type": "code",
   "execution_count": 76,
   "metadata": {},
   "outputs": [],
   "source": [
    "def get_tuple_with_min_second_element_and_index(tuple_list):\n",
    "    if not tuple_list:\n",
    "        return None, None  # Return None for an empty list\n",
    "\n",
    "    min_index, min_value = min(enumerate(tuple_list), key=lambda x: x[1][1])\n",
    "    return min_value, min_index\n"
   ]
  },
  {
   "cell_type": "code",
   "execution_count": 77,
   "metadata": {},
   "outputs": [
    {
     "data": {
      "text/plain": [
       "[(array([ 6,  4,  5,  3,  2,  7,  1,  0, 11, 10,  9,  8]), array([791.]))]"
      ]
     },
     "execution_count": 77,
     "metadata": {},
     "output_type": "execute_result"
    }
   ],
   "source": [
    "results"
   ]
  },
  {
   "cell_type": "code",
   "execution_count": 78,
   "metadata": {},
   "outputs": [],
   "source": [
    "def array_project(array, indices):\n",
    "    # Assuming array is a NumPy array\n",
    "    # indices is a list of 1D indices\n",
    "\n",
    "    # Use NumPy to create a subarray using the indices\n",
    "    array = np.array(array)\n",
    "    new_array = array[np.array(indices)]\n",
    "\n",
    "    return new_array"
   ]
  },
  {
   "cell_type": "code",
   "execution_count": 79,
   "metadata": {},
   "outputs": [],
   "source": [
    "final_sol = [(array_project(unique_set_solutions[i],x[0]),x[1]) for i,x in enumerate(results)]"
   ]
  },
  {
   "cell_type": "code",
   "execution_count": 80,
   "metadata": {},
   "outputs": [
    {
     "name": "stdout",
     "output_type": "stream",
     "text": [
      "Option 0: Travel order [12 10 11  8  4 14  2  1 20 19 17 15] with travel time 791.0 seconds.\n"
     ]
    }
   ],
   "source": [
    "for i,x in enumerate(final_sol):\n",
    "    if is_duration:\n",
    "        print(f'Option {i}: Travel order {x[0]} with travel time {x[1][0]} seconds.')\n",
    "    else:\n",
    "        print(f'Option {i}: Travel order {x[0]} with travel distance {x[1][0]} metres.')\n",
    "    "
   ]
  },
  {
   "cell_type": "code",
   "execution_count": 81,
   "metadata": {},
   "outputs": [
    {
     "name": "stdout",
     "output_type": "stream",
     "text": [
      "Best candidate for map: (array([ 6,  4,  5,  3,  2,  7,  1,  0, 11, 10,  9,  8]), array([791.]))\n",
      "Index of the chosen solution: 0\n"
     ]
    }
   ],
   "source": [
    "min_tuple, min_index = get_tuple_with_min_second_element_and_index(results)\n",
    "\n",
    "print(\"Best candidate for map:\", min_tuple)\n",
    "print(\"Index of the chosen solution:\", min_index)"
   ]
  },
  {
   "cell_type": "code",
   "execution_count": 82,
   "metadata": {},
   "outputs": [],
   "source": [
    "X, F = min_tuple"
   ]
  },
  {
   "cell_type": "markdown",
   "metadata": {},
   "source": [
    "Then, project the GA solution onto the original chosen cafe list."
   ]
  },
  {
   "cell_type": "code",
   "execution_count": 83,
   "metadata": {},
   "outputs": [
    {
     "name": "stdout",
     "output_type": "stream",
     "text": [
      "Original solution: [ 6  4  5  3  2  7  1  0 11 10  9  8]\n"
     ]
    }
   ],
   "source": [
    "print(f\"Original solution: {X}\")"
   ]
  },
  {
   "cell_type": "code",
   "execution_count": 84,
   "metadata": {},
   "outputs": [
    {
     "name": "stdout",
     "output_type": "stream",
     "text": [
      "Order of travel: [12 10 11  8  4 14  2  1 20 19 17 15].\n"
     ]
    }
   ],
   "source": [
    "print(f'Order of travel: {array_project(unique_set_solutions[min_index],X)}.')\n",
    "pd.DataFrame(array_project(unique_set_solutions[min_index],X)).to_csv(\"E:\\Work\\DS\\Optimization\\Term Project\\git\\output//solution_to_plot//solutions.csv\",header=False, index=False)"
   ]
  },
  {
   "cell_type": "code",
   "execution_count": 85,
   "metadata": {},
   "outputs": [
    {
     "name": "stdout",
     "output_type": "stream",
     "text": [
      "Travel time: 791.0 seconds.\n"
     ]
    }
   ],
   "source": [
    "if is_duration:\n",
    "    print(f'Travel time: {F[0]} seconds.')\n",
    "else:\n",
    "    print(f'Travel distance: {F[0]} metres.')"
   ]
  },
  {
   "cell_type": "code",
   "execution_count": 86,
   "metadata": {},
   "outputs": [
    {
     "name": "stdout",
     "output_type": "stream",
     "text": [
      "Average Rating: 4.583333333333334 stars.\n"
     ]
    }
   ],
   "source": [
    "# get average ratings\n",
    "\n",
    "places_in_route = array_project(unique_set_solutions[min_index],X)\n",
    "avg_rating = np.average([ratings[j] for j in places_in_route])\n",
    "\n",
    "print(f'Average Rating: {avg_rating} stars.')"
   ]
  }
 ],
 "metadata": {
  "kernelspec": {
   "display_name": "base",
   "language": "python",
   "name": "python3"
  },
  "language_info": {
   "codemirror_mode": {
    "name": "ipython",
    "version": 3
   },
   "file_extension": ".py",
   "mimetype": "text/x-python",
   "name": "python",
   "nbconvert_exporter": "python",
   "pygments_lexer": "ipython3",
   "version": "3.11.7"
  }
 },
 "nbformat": 4,
 "nbformat_minor": 2
}
